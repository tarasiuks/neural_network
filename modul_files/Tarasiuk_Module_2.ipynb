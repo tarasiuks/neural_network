{
 "cells": [
  {
   "cell_type": "code",
   "execution_count": null,
   "id": "e236ba5f-2196-49c6-8587-cedcea8b8658",
   "metadata": {},
   "outputs": [],
   "source": [
    "def load_dataset():\n",
    "    file_name=  os.path.join(path , 'train_catvnoncat.h5')\n",
    "    train_dataset = h5py.File(file_name, \"r\")\n",
    "    X_train = np.array(train_dataset[\"train_set_x\"][:]) # your train set features\n",
    "    Y_train = np.array(train_dataset[\"train_set_y\"][:]) # your train set labels\n",
    "    \n",
    "    file_name=  os.path.join(path , 'test_catvnoncat.h5')\n",
    "    test_dataset = h5py.File(file_name, \"r\")\n",
    "    X_test = np.array(test_dataset[\"test_set_x\"][:]) # your test set features\n",
    "    Y_test = np.array(test_dataset[\"test_set_y\"][:]) # your test set labels\n",
    "\n",
    "    classes = ['non-cat','cat']\n",
    "    \n",
    "    Y_train = Y_train.reshape(-1,1)\n",
    "    Y_test = Y_test.reshape(-1,1)\n",
    "    \n",
    "    return X_train, Y_train, X_test, Y_test, classes\n",
    "X_train,Y_train, X_test, Y_test, classes = load_dataset()\n",
    "\n",
    "index = 27\n",
    "plt.figure()\n",
    "plt.imshow(X_train[index])\n",
    "print (\"y = \" + str(Y_train[index,:]) + \", it's a '\" + classes[np.squeeze(Y_train[index,:])] +  \"' picture.\")"
   ]
  },
  {
   "cell_type": "code",
   "execution_count": 1,
   "id": "6e119242-4728-45a7-b599-593480f2dc42",
   "metadata": {},
   "outputs": [
    {
     "ename": "ModuleNotFoundError",
     "evalue": "No module named 'scipy'",
     "output_type": "error",
     "traceback": [
      "\u001b[1;31m---------------------------------------------------------------------------\u001b[0m",
      "\u001b[1;31mModuleNotFoundError\u001b[0m                       Traceback (most recent call last)",
      "Cell \u001b[1;32mIn[1], line 1\u001b[0m\n\u001b[1;32m----> 1\u001b[0m \u001b[38;5;28;01mfrom\u001b[39;00m \u001b[38;5;21;01mscipy\u001b[39;00m\u001b[38;5;21;01m.\u001b[39;00m\u001b[38;5;21;01mio\u001b[39;00m \u001b[38;5;28;01mimport\u001b[39;00m loadmat\n\u001b[0;32m      2\u001b[0m fn\u001b[38;5;241m=\u001b[39m  os\u001b[38;5;241m.\u001b[39mpath\u001b[38;5;241m.\u001b[39mjoin(path , \u001b[38;5;124m'\u001b[39m\u001b[38;5;124mdigits.mat\u001b[39m\u001b[38;5;124m'\u001b[39m)\n\u001b[0;32m      3\u001b[0m mat\u001b[38;5;241m=\u001b[39m loadmat(fn)\n",
      "\u001b[1;31mModuleNotFoundError\u001b[0m: No module named 'scipy'"
     ]
    }
   ],
   "source": [
    "import matplotlib.pyplot as plt\n",
    "import numpy as np\n",
    "%matplotlib notebook\n",
    "from scipy.stats import logistic\n",
    "import h5py\n",
    "import os\n",
    "cwd= os.getcwd() # current working directory\n",
    "path = os.path.join(cwd,'data') "
   ]
  },
  {
   "cell_type": "code",
   "execution_count": null,
   "id": "1cb62fda-cc1f-4981-8e65-008283b94025",
   "metadata": {},
   "outputs": [],
   "source": []
  },
  {
   "cell_type": "code",
   "execution_count": null,
   "id": "788962b8-e801-4dda-a8b5-e07929a37a4d",
   "metadata": {},
   "outputs": [],
   "source": []
  },
  {
   "cell_type": "code",
   "execution_count": null,
   "id": "1ff59840-6207-4437-9504-c4272e680f75",
   "metadata": {},
   "outputs": [],
   "source": []
  }
 ],
 "metadata": {
  "kernelspec": {
   "display_name": "Python 3 (ipykernel)",
   "language": "python",
   "name": "python3"
  },
  "language_info": {
   "codemirror_mode": {
    "name": "ipython",
    "version": 3
   },
   "file_extension": ".py",
   "mimetype": "text/x-python",
   "name": "python",
   "nbconvert_exporter": "python",
   "pygments_lexer": "ipython3",
   "version": "3.12.3"
  }
 },
 "nbformat": 4,
 "nbformat_minor": 5
}
